{
 "cells": [
  {
   "cell_type": "markdown",
   "metadata": {},
   "source": [
    "Simple python code to transform the node file product of FracPaQ by Healy et al., (2017) into a text file with the azimuth of each fracture, this can then be used into the data template to use in WinTensor by Delvaux and Sperner (2003). \n",
    "Created by Rafael Arturo Quintana Gomez and presented in XVIII Congreso Colombiano de Geología."
   ]
  },
  {
   "cell_type": "code",
   "execution_count": 16,
   "metadata": {},
   "outputs": [],
   "source": [
    "import pandas as pd\n",
    "import numpy as np"
   ]
  },
  {
   "cell_type": "code",
   "execution_count": 15,
   "metadata": {},
   "outputs": [
    {
     "data": {
      "text/html": [
       "<div>\n",
       "<style scoped>\n",
       "    .dataframe tbody tr th:only-of-type {\n",
       "        vertical-align: middle;\n",
       "    }\n",
       "\n",
       "    .dataframe tbody tr th {\n",
       "        vertical-align: top;\n",
       "    }\n",
       "\n",
       "    .dataframe thead th {\n",
       "        text-align: right;\n",
       "    }\n",
       "</style>\n",
       "<table border=\"1\" class=\"dataframe\">\n",
       "  <thead>\n",
       "    <tr style=\"text-align: right;\">\n",
       "      <th></th>\n",
       "      <th>0</th>\n",
       "      <th>1</th>\n",
       "      <th>2</th>\n",
       "      <th>3</th>\n",
       "      <th>4</th>\n",
       "      <th>5</th>\n",
       "      <th>6</th>\n",
       "      <th>7</th>\n",
       "      <th>8</th>\n",
       "    </tr>\n",
       "  </thead>\n",
       "  <tbody>\n",
       "    <tr>\n",
       "      <th>0</th>\n",
       "      <td>2623.75</td>\n",
       "      <td>4050.25</td>\n",
       "      <td>4798.75</td>\n",
       "      <td>2594.0</td>\n",
       "      <td>6023.75</td>\n",
       "      <td>2081.50</td>\n",
       "      <td>6880.00</td>\n",
       "      <td>1419.00</td>\n",
       "      <td>NaN</td>\n",
       "    </tr>\n",
       "    <tr>\n",
       "      <th>1</th>\n",
       "      <td>2498.75</td>\n",
       "      <td>3887.75</td>\n",
       "      <td>4111.25</td>\n",
       "      <td>2406.5</td>\n",
       "      <td>5692.50</td>\n",
       "      <td>1012.75</td>\n",
       "      <td>NaN</td>\n",
       "      <td>NaN</td>\n",
       "      <td>NaN</td>\n",
       "    </tr>\n",
       "    <tr>\n",
       "      <th>2</th>\n",
       "      <td>2080.00</td>\n",
       "      <td>2925.25</td>\n",
       "      <td>3742.50</td>\n",
       "      <td>1869.0</td>\n",
       "      <td>4786.25</td>\n",
       "      <td>894.00</td>\n",
       "      <td>5773.75</td>\n",
       "      <td>600.25</td>\n",
       "      <td>NaN</td>\n",
       "    </tr>\n",
       "  </tbody>\n",
       "</table>\n",
       "</div>"
      ],
      "text/plain": [
       "         0        1        2       3        4        5        6        7   8\n",
       "0  2623.75  4050.25  4798.75  2594.0  6023.75  2081.50  6880.00  1419.00 NaN\n",
       "1  2498.75  3887.75  4111.25  2406.5  5692.50  1012.75      NaN      NaN NaN\n",
       "2  2080.00  2925.25  3742.50  1869.0  4786.25   894.00  5773.75   600.25 NaN"
      ]
     },
     "execution_count": 15,
     "metadata": {},
     "output_type": "execute_result"
    }
   ],
   "source": [
    "#Open text file of nodes\n",
    "data = pd.read_csv('your_node_file.txt', header = None, delimiter = \"\\t\")\n",
    "#data"
   ]
  },
  {
   "cell_type": "code",
   "execution_count": 3,
   "metadata": {},
   "outputs": [],
   "source": [
    "#Function to calculate the azimuth of a line with two points.\n",
    "def azimuth(x1,x2,y1,y2):\n",
    "    dx = x2 - x1\n",
    "    dy = y2 - y1\n",
    "    azm = round(np.arctan2(dy,dx)*180/np.pi)\n",
    "    if azm < 0:\n",
    "        azm += 360\n",
    "    return azm"
   ]
  },
  {
   "cell_type": "code",
   "execution_count": 11,
   "metadata": {},
   "outputs": [],
   "source": [
    "#Function to calculate the azimuth of each line in the text file.\n",
    "def main():\n",
    "    #Creation of node data lists from text file.\n",
    "    list_list = []\n",
    "    for i in range(0,len(data.loc[:])):\n",
    "        list = []\n",
    "        for j in data.loc[i]:\n",
    "            if np.isnan(j):\n",
    "                pass\n",
    "            else:\n",
    "                list.append(j)\n",
    "        list_list.append(list)\n",
    "    \n",
    "    #Selection of starting and ending nodes from each node data list and calculation of azimuth.\n",
    "    azim_list = []\n",
    "    for i in range(0, len(list_list)):\n",
    "        x1 = list_list[i][0]\n",
    "        x2 = list_list[i][-2]\n",
    "        y1 = -list_list[i][1]\n",
    "        y2 = -list_list[i][-1]\n",
    "        azim_value = 0\n",
    "        azim_list.append(azimuth(x1,x2,y1,y2));\n",
    "    \n",
    "    #Creation of azimuth text file.\n",
    "    with open('your_azimuth_file.txt', 'w') as f:\n",
    "        for item in azim_list:\n",
    "            f.write(\"%s\\n\" % item)"
   ]
  },
  {
   "cell_type": "code",
   "execution_count": 13,
   "metadata": {},
   "outputs": [],
   "source": [
    "#Run main function\n",
    "main()"
   ]
  },
  {
   "cell_type": "code",
   "execution_count": 14,
   "metadata": {},
   "outputs": [
    {
     "data": {
      "text/html": [
       "<div>\n",
       "<style scoped>\n",
       "    .dataframe tbody tr th:only-of-type {\n",
       "        vertical-align: middle;\n",
       "    }\n",
       "\n",
       "    .dataframe tbody tr th {\n",
       "        vertical-align: top;\n",
       "    }\n",
       "\n",
       "    .dataframe thead th {\n",
       "        text-align: right;\n",
       "    }\n",
       "</style>\n",
       "<table border=\"1\" class=\"dataframe\">\n",
       "  <thead>\n",
       "    <tr style=\"text-align: right;\">\n",
       "      <th></th>\n",
       "      <th>0</th>\n",
       "    </tr>\n",
       "  </thead>\n",
       "  <tbody>\n",
       "    <tr>\n",
       "      <th>0</th>\n",
       "      <td>32</td>\n",
       "    </tr>\n",
       "    <tr>\n",
       "      <th>1</th>\n",
       "      <td>42</td>\n",
       "    </tr>\n",
       "    <tr>\n",
       "      <th>2</th>\n",
       "      <td>32</td>\n",
       "    </tr>\n",
       "  </tbody>\n",
       "</table>\n",
       "</div>"
      ],
      "text/plain": [
       "    0\n",
       "0  32\n",
       "1  42\n",
       "2  32"
      ]
     },
     "execution_count": 14,
     "metadata": {},
     "output_type": "execute_result"
    }
   ],
   "source": [
    "#Verify azimuth txt file with azimuth results\n",
    "test_result = pd.read_csv('your_azimuth_file.txt', header = None, delimiter = \"\\t\")\n",
    "test_result"
   ]
  },
  {
   "cell_type": "code",
   "execution_count": null,
   "metadata": {},
   "outputs": [],
   "source": []
  }
 ],
 "metadata": {
  "kernelspec": {
   "display_name": "Python 3",
   "language": "python",
   "name": "python3"
  },
  "language_info": {
   "codemirror_mode": {
    "name": "ipython",
    "version": 3
   },
   "file_extension": ".py",
   "mimetype": "text/x-python",
   "name": "python",
   "nbconvert_exporter": "python",
   "pygments_lexer": "ipython3",
   "version": "3.8.5"
  }
 },
 "nbformat": 4,
 "nbformat_minor": 4
}
