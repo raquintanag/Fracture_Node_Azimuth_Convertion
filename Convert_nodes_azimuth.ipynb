{
 "cells": [
  {
   "cell_type": "markdown",
   "metadata": {},
   "source": [
    "Simple python code to transform the node file product of FracPaQ by Healy et al., (2017) into a text file with the azimuth of each fracture, this can then be used into the data template to use in WinTensor by Delvaux and Sperner (2003). \n",
    "Created by Rafael Arturo Quintana Gomez and presented in XVIII Congreso Colombiano de Geología."
   ]
  },
  {
   "cell_type": "code",
   "execution_count": null,
   "metadata": {},
   "outputs": [],
   "source": [
    "import pandas as pd\n",
    "import numpy as np"
   ]
  },
  {
   "cell_type": "code",
   "execution_count": null,
   "metadata": {},
   "outputs": [],
   "source": [
    "#Open text file of nodes\n",
    "data = pd.read_csv('your_node_file.txt', header = None, delimiter = \"\\t\")\n",
    "#data"
   ]
  },
  {
   "cell_type": "code",
   "execution_count": null,
   "metadata": {},
   "outputs": [],
   "source": [
    "#Function to calculate the azimuth of a line with two points.\n",
    "def azimuth(x1,x2,y1,y2):\n",
    "    dx = x2 - x1\n",
    "    dy = y2 - y1\n",
    "    azm = round(np.arctan2(dy,dx)*180/np.pi)\n",
    "    if azm < 0:\n",
    "        azm += 360\n",
    "    return azm"
   ]
  },
  {
   "cell_type": "code",
   "execution_count": null,
   "metadata": {},
   "outputs": [],
   "source": [
    "#Function to calculate the azimuth of each line in the text file.\n",
    "def main():\n",
    "    #Creation of node data lists from text file.\n",
    "    list_list = []\n",
    "    for i in range(0,len(data.loc[:])):\n",
    "        list = []\n",
    "        for j in data.loc[i]:\n",
    "            if np.isnan(j):\n",
    "                pass\n",
    "            else:\n",
    "                list.append(j)\n",
    "        list_list.append(list)\n",
    "    \n",
    "    #Selection of starting and ending nodes from each node data list and calculation of azimuth.\n",
    "    azim_list = []\n",
    "    for i in range(0, len(list_list)):\n",
    "        x1 = list_list[i][0]\n",
    "        x2 = list_list[i][-2]\n",
    "        y1 = -list_list[i][1]\n",
    "        y2 = -list_list[i][-1]\n",
    "        azim_value = 0\n",
    "        azim_list.append(azimuth(x1,x2,y1,y2));\n",
    "    \n",
    "    #Creation of azimuth text file.\n",
    "    with open('your_azimuth_file.txt', 'w') as f:\n",
    "        for item in azim_list:\n",
    "            f.write(\"%s\\n\" % item)"
   ]
  },
  {
   "cell_type": "code",
   "execution_count": null,
   "metadata": {},
   "outputs": [],
   "source": [
    "#Run main function\n",
    "main()"
   ]
  },
  {
   "cell_type": "code",
   "execution_count": null,
   "metadata": {},
   "outputs": [],
   "source": [
    "#Verify azimuth txt file with azimuth results\n",
    "test_result = pd.read_csv('your_azimuth_file.txt', header = None, delimiter = \"\\t\")\n",
    "test_result"
   ]
  },
  {
   "cell_type": "code",
   "execution_count": null,
   "metadata": {},
   "outputs": [],
   "source": []
  }
 ],
 "metadata": {
  "kernelspec": {
   "display_name": "Python 3",
   "language": "python",
   "name": "python3"
  },
  "language_info": {
   "codemirror_mode": {
    "name": "ipython",
    "version": 3
   },
   "file_extension": ".py",
   "mimetype": "text/x-python",
   "name": "python",
   "nbconvert_exporter": "python",
   "pygments_lexer": "ipython3",
   "version": "3.8.5"
  }
 },
 "nbformat": 4,
 "nbformat_minor": 4
}
